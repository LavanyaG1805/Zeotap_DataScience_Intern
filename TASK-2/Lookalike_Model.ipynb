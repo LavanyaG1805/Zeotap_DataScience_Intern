{
  "nbformat": 4,
  "nbformat_minor": 0,
  "metadata": {
    "colab": {
      "provenance": []
    },
    "kernelspec": {
      "name": "python3",
      "display_name": "Python 3"
    },
    "language_info": {
      "name": "python"
    }
  },
  "cells": [
    {
      "cell_type": "code",
      "execution_count": 49,
      "metadata": {
        "id": "jSKf8FnuQK-P"
      },
      "outputs": [],
      "source": [
        "import pandas as pd\n",
        "import numpy as np\n",
        "\n",
        "from sklearn.preprocessing import OneHotEncoder, StandardScaler\n",
        "from sklearn.metrics.pairwise import cosine_similarity"
      ]
    },
    {
      "cell_type": "code",
      "source": [
        "customers_df = pd.read_csv('/content/Customers.csv')\n",
        "products_df = pd.read_csv('/content/Products.csv')\n",
        "transactions_df = pd.read_csv('/content/Transactions.csv')"
      ],
      "metadata": {
        "id": "Lq3CQkYPQSHg"
      },
      "execution_count": 50,
      "outputs": []
    },
    {
      "cell_type": "markdown",
      "source": [
        "**Feature Engineering**"
      ],
      "metadata": {
        "id": "9HF4VBPitprw"
      }
    },
    {
      "cell_type": "code",
      "source": [
        "def create_customer_features(customers_df, products_df, transactions_df):\n",
        "\n",
        "    customer_features = pd.get_dummies(customers_df[['CustomerID', 'Region']], columns=['Region'])\n",
        "    transaction_metrics = transactions_df.groupby('CustomerID').agg({\n",
        "        'TransactionID': 'count',\n",
        "        'TotalValue': ['sum', 'mean'],\n",
        "        'Quantity': 'sum'\n",
        "    }).fillna(0)\n",
        "\n",
        "    transaction_metrics.columns = ['transaction_count', 'total_spend', 'avg_transaction_value', 'total_items']\n",
        "\n",
        "    trans_with_categories = pd.merge(\n",
        "        transactions_df,\n",
        "        products_df[['ProductID', 'Category']],\n",
        "        on='ProductID'\n",
        "    )\n",
        "\n",
        "    category_spending = pd.pivot_table(\n",
        "        trans_with_categories,\n",
        "        values='TotalValue',\n",
        "        index='CustomerID',\n",
        "        columns='Category',\n",
        "        aggfunc='sum',\n",
        "        fill_value=0\n",
        "    )\n",
        "\n",
        "    category_preferences = category_spending.div(category_spending.sum(axis=1), axis=0)\n",
        "    category_preferences.columns = [f'category_pref_{col.lower()}' for col in category_preferences.columns]\n",
        "\n",
        "    final_features = pd.merge(\n",
        "        customer_features.set_index('CustomerID'),\n",
        "        transaction_metrics,\n",
        "        left_index=True,\n",
        "        right_index=True,\n",
        "        how='left'\n",
        "    )\n",
        "\n",
        "    final_features = pd.merge(\n",
        "        final_features,\n",
        "        category_preferences,\n",
        "        left_index=True,\n",
        "        right_index=True,\n",
        "        how='left'\n",
        "    )\n",
        "\n",
        "    final_features = final_features.fillna(0)\n",
        "\n",
        "    return final_features"
      ],
      "metadata": {
        "id": "ZVEvJn7jQ1Mt"
      },
      "execution_count": 51,
      "outputs": []
    },
    {
      "cell_type": "markdown",
      "source": [
        "**Creating Feature Matrix**"
      ],
      "metadata": {
        "id": "CydEcnATYabn"
      }
    },
    {
      "cell_type": "code",
      "source": [
        "feature_matrix = create_customer_features(customers_df, products_df, transactions_df)"
      ],
      "metadata": {
        "id": "Kl9auCsoSPIZ"
      },
      "execution_count": 52,
      "outputs": []
    },
    {
      "cell_type": "markdown",
      "source": [
        "**Scaling Features**"
      ],
      "metadata": {
        "id": "znjxZ8-KYhcR"
      }
    },
    {
      "cell_type": "code",
      "source": [
        "scaler = StandardScaler()\n",
        "scaled_features = scaler.fit_transform(feature_matrix)\n",
        "scaled_features_df = pd.DataFrame(\n",
        "    scaled_features,\n",
        "    index=feature_matrix.index,\n",
        "    columns=feature_matrix.columns\n",
        ")"
      ],
      "metadata": {
        "id": "GkAqEgx8SUxA"
      },
      "execution_count": 53,
      "outputs": []
    },
    {
      "cell_type": "markdown",
      "source": [
        "**Calculating Similarity Scores**"
      ],
      "metadata": {
        "id": "0FSjr29ZYn2Q"
      }
    },
    {
      "cell_type": "code",
      "source": [
        "similarity_matrix = cosine_similarity(scaled_features_df)\n",
        "similarity_df = pd.DataFrame(\n",
        "    similarity_matrix,\n",
        "    index=feature_matrix.index,\n",
        "    columns=feature_matrix.index\n",
        ")"
      ],
      "metadata": {
        "id": "2OzJK2LXSa8Y"
      },
      "execution_count": 54,
      "outputs": []
    },
    {
      "cell_type": "markdown",
      "source": [
        "Getting top 3 similar Customers for a given Customer_id"
      ],
      "metadata": {
        "id": "SN9qDQ9YYut4"
      }
    },
    {
      "cell_type": "code",
      "source": [
        "def get_top_lookalikes(customer_id, similarity_df, n=3):\n",
        "\n",
        "    customer_similarities = similarity_df[customer_id].sort_values(ascending=False)\n",
        "\n",
        "    customer_similarities = customer_similarities[customer_similarities.index != customer_id]\n",
        "\n",
        "    top_similar = customer_similarities.head(n)\n",
        "\n",
        "    return [(cust_id, round(float(score), 4)) for cust_id, score in top_similar.items()]"
      ],
      "metadata": {
        "id": "SrcviFBXSeET"
      },
      "execution_count": 55,
      "outputs": []
    },
    {
      "cell_type": "markdown",
      "source": [
        "**Generating Recommendations**"
      ],
      "metadata": {
        "id": "0cTOHphQZAas"
      }
    },
    {
      "cell_type": "code",
      "source": [
        "lookalike_results = {}\n",
        "for i in range(1, 21):\n",
        "    customer_id = f'C{i:04d}'\n",
        "    lookalikes = get_top_lookalikes(customer_id, similarity_df)\n",
        "    lookalike_results[customer_id] = lookalikes"
      ],
      "metadata": {
        "id": "OZfO1uK-Sh-n"
      },
      "execution_count": 56,
      "outputs": []
    },
    {
      "cell_type": "markdown",
      "source": [
        "**Saving Results**"
      ],
      "metadata": {
        "id": "t9UHbrCXZGNy"
      }
    },
    {
      "cell_type": "code",
      "source": [
        "print(\"Saving results...\")\n",
        "\n",
        "flattened_results = []\n",
        "for cust_id, lookalikes in lookalike_results.items():\n",
        "    row = {\n",
        "        'customer_id': cust_id,\n",
        "        'recommendations': str(lookalikes)\n",
        "    }\n",
        "    flattened_results.append(row)\n",
        "\n",
        "output_df = pd.DataFrame(flattened_results)\n",
        "output_df.to_csv('FirstName_LastName_Lookalike.csv', index=False)"
      ],
      "metadata": {
        "colab": {
          "base_uri": "https://localhost:8080/"
        },
        "id": "Lkx30wuKSlRm",
        "outputId": "26726349-28ab-4fb9-d733-0ce1147e5570"
      },
      "execution_count": 57,
      "outputs": [
        {
          "output_type": "stream",
          "name": "stdout",
          "text": [
            "Saving results...\n"
          ]
        }
      ]
    },
    {
      "cell_type": "code",
      "source": [
        "print(\"\\nSample Results (First 5 customers):\")\n",
        "for cust_id in list(lookalike_results.keys())[:5]:\n",
        "    print(f\"\\nCustomer {cust_id}:\")\n",
        "    for similar_id, score in lookalike_results[cust_id]:\n",
        "        print(f\"Similar customer: {similar_id}, Similarity score: {score}\")"
      ],
      "metadata": {
        "colab": {
          "base_uri": "https://localhost:8080/"
        },
        "id": "eqjvq1AJSpyZ",
        "outputId": "67905bf6-b7fc-447f-aac1-40f3fdb4e368"
      },
      "execution_count": 47,
      "outputs": [
        {
          "output_type": "stream",
          "name": "stdout",
          "text": [
            "\n",
            "Sample Results (First 5 customers):\n",
            "\n",
            "Customer C0001:\n",
            "Similar customer: C0120, Similarity score: 0.9383\n",
            "Similar customer: C0192, Similarity score: 0.9031\n",
            "Similar customer: C0181, Similarity score: 0.8957\n",
            "\n",
            "Customer C0002:\n",
            "Similar customer: C0159, Similarity score: 0.9376\n",
            "Similar customer: C0178, Similarity score: 0.9308\n",
            "Similar customer: C0106, Similarity score: 0.9306\n",
            "\n",
            "Customer C0003:\n",
            "Similar customer: C0152, Similarity score: 0.8922\n",
            "Similar customer: C0031, Similarity score: 0.8809\n",
            "Similar customer: C0085, Similarity score: 0.8499\n",
            "\n",
            "Customer C0004:\n",
            "Similar customer: C0113, Similarity score: 0.9197\n",
            "Similar customer: C0104, Similarity score: 0.8905\n",
            "Similar customer: C0165, Similarity score: 0.8471\n",
            "\n",
            "Customer C0005:\n",
            "Similar customer: C0007, Similarity score: 0.9643\n",
            "Similar customer: C0140, Similarity score: 0.8651\n",
            "Similar customer: C0186, Similarity score: 0.7886\n"
          ]
        }
      ]
    }
  ]
}